{
 "cells": [
  {
   "cell_type": "code",
   "metadata": {
    "ExecuteTime": {
     "end_time": "2024-09-22T11:06:46.723021Z",
     "start_time": "2024-09-22T11:06:46.577850Z"
    }
   },
   "source": [
    "import os\n",
    "import shutil\n",
    "import glob\n",
    "from tqdm import tqdm"
   ],
   "outputs": [],
   "execution_count": 2
  },
  {
   "cell_type": "markdown",
   "metadata": {},
   "source": [
    "#\n",
    "subject ID:\n",
    "xxx\n",
    "\n",
    "image number:\n",
    "xxx\n",
    "\n",
    "gender:\n",
    "0 - male\n",
    "1 - famale\n",
    "\n",
    "glasses:\n",
    "0 - no\n",
    "1 - yes\n",
    "\n",
    "eye state:\n",
    "0 - close\n",
    "1 - open\n",
    "\n",
    "reflections:\n",
    "0 - none\n",
    "1 - low\n",
    "2 - high\n",
    "\n",
    "lighting conditions/image quality:\n",
    "0 - bad\n",
    "1 - good\n",
    "\n",
    "sensor type:\n",
    "01 - RealSense SR300 640x480\n",
    "02 - IDS Imaging, 1280x1024\n",
    "03 - Aptina Imagin 752x480\n",
    "\n",
    "example:\n",
    "s001_00123_0_0_0_0_0_01.png"
   ]
  },
  {
   "cell_type": "code",
   "metadata": {
    "jupyter": {
     "is_executing": true
    },
    "ExecuteTime": {
     "end_time": "2024-09-22T12:32:24.674244600Z",
     "start_time": "2024-09-22T11:09:59.248198Z"
    }
   },
   "source": [
    "Raw_DIR= r'C:\\Users\\HP\\Downloads\\mrlEyes_2018_01\\mrlEyes_2018_01'\n",
    "for dirpath, dirname, filenames in os.walk(Raw_DIR):\n",
    "    for i in tqdm([f for f in filenames if f.endswith('.png')]):\n",
    "        if i.split('_')[4]=='0':\n",
    "            shutil.copy(src=dirpath+'/'+i, dst=r'C:\\Users\\HP\\Desktop\\Prepared Data\\Closed Eye')\n",
    "        \n",
    "        elif i.split('_')[4]=='1':\n",
    "            shutil.copy(src=dirpath+'/'+i, dst=r'C:\\Users\\HP\\Desktop\\Prepared Data\\Open Eye')\n"
   ],
   "outputs": [
    {
     "name": "stderr",
     "output_type": "stream",
     "text": [
      "0it [00:00, ?it/s]\n",
      "100%|██████████| 3242/3242 [05:26<00:00,  9.94it/s]\n",
      "100%|██████████| 1114/1114 [00:43<00:00, 25.69it/s]\n",
      "100%|██████████| 679/679 [00:27<00:00, 24.95it/s]\n",
      "100%|██████████| 1069/1069 [00:45<00:00, 23.71it/s]\n",
      "100%|██████████| 736/736 [00:30<00:00, 24.24it/s]\n",
      "100%|██████████| 1012/1012 [00:51<00:00, 19.77it/s]\n",
      "100%|██████████| 624/624 [00:28<00:00, 22.17it/s]\n",
      "100%|██████████| 832/832 [00:39<00:00, 21.24it/s]\n",
      "100%|██████████| 387/387 [00:18<00:00, 20.87it/s]\n",
      "100%|██████████| 399/399 [00:23<00:00, 17.34it/s]\n",
      "100%|██████████| 1648/1648 [01:27<00:00, 18.88it/s]\n",
      "100%|██████████| 8728/8728 [07:20<00:00, 19.82it/s]\n",
      "100%|██████████| 3605/3605 [03:17<00:00, 18.26it/s]\n",
      "100%|██████████| 8884/8884 [07:38<00:00, 19.36it/s]\n",
      "100%|██████████| 1132/1132 [01:05<00:00, 17.33it/s]\n",
      "100%|██████████| 1889/1889 [01:57<00:00, 16.04it/s]\n",
      "100%|██████████| 1648/1648 [01:22<00:00, 20.03it/s]\n",
      "100%|██████████| 4410/4410 [03:44<00:00, 19.62it/s]\n",
      "100%|██████████| 6175/6175 [04:57<00:00, 20.78it/s]  \n",
      "100%|██████████| 704/704 [00:35<00:00, 19.70it/s]\n",
      "100%|██████████| 987/987 [00:41<00:00, 23.71it/s]\n",
      "100%|██████████| 382/382 [00:14<00:00, 27.17it/s]\n",
      "100%|██████████| 522/522 [00:25<00:00, 20.59it/s]\n",
      "100%|██████████| 752/752 [00:49<00:00, 15.18it/s]\n",
      "100%|██████████| 1502/1502 [01:10<00:00, 21.40it/s]\n",
      "100%|██████████| 1246/1246 [01:00<00:00, 20.51it/s]\n",
      "100%|██████████| 665/665 [00:35<00:00, 18.92it/s]\n",
      "100%|██████████| 736/736 [00:34<00:00, 21.50it/s]\n",
      "100%|██████████| 1393/1393 [01:04<00:00, 21.72it/s]\n",
      "100%|██████████| 1384/1384 [01:11<00:00, 19.31it/s]\n",
      "100%|██████████| 1738/1738 [03:59<00:00,  7.25it/s]  \n",
      "  7%|▋         | 461/6162 [00:21<02:24, 39.46it/s]"
     ]
    }
   ],
   "execution_count": null
  },
  {
   "cell_type": "code",
   "execution_count": null,
   "metadata": {},
   "outputs": [],
   "source": []
  },
  {
   "cell_type": "code",
   "execution_count": null,
   "metadata": {},
   "outputs": [],
   "source": []
  }
 ],
 "metadata": {
  "kernelspec": {
   "display_name": "Python 3",
   "language": "python",
   "name": "python3"
  },
  "language_info": {
   "codemirror_mode": {
    "name": "ipython",
    "version": 3
   },
   "file_extension": ".py",
   "mimetype": "text/x-python",
   "name": "python",
   "nbconvert_exporter": "python",
   "pygments_lexer": "ipython3",
   "version": "3.7.9"
  }
 },
 "nbformat": 4,
 "nbformat_minor": 4
}
